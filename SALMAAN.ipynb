{
 "cells": [
  {
   "cell_type": "code",
   "execution_count": 1,
   "metadata": {},
   "outputs": [],
   "source": [
    "name = \"Salman\""
   ]
  },
  {
   "cell_type": "code",
   "execution_count": 6,
   "metadata": {},
   "outputs": [
    {
     "name": "stdout",
     "output_type": "stream",
     "text": [
      "Yep, the name is Salman\n"
     ]
    }
   ],
   "source": [
    "if name == \"Salman\":\n",
    "    print(\"Yep, the name is Salman\")"
   ]
  },
  {
   "cell_type": "code",
   "execution_count": 16,
   "metadata": {},
   "outputs": [
    {
     "name": "stdout",
     "output_type": "stream",
     "text": [
      "13\n"
     ]
    }
   ],
   "source": [
    "a = 1\n",
    "b = 12\n",
    "\n",
    "if a != 11:\n",
    "    print(a + b)"
   ]
  },
  {
   "cell_type": "code",
   "execution_count": 33,
   "metadata": {},
   "outputs": [],
   "source": [
    "car = \"corolla\""
   ]
  },
  {
   "cell_type": "code",
   "execution_count": 35,
   "metadata": {},
   "outputs": [
    {
     "name": "stdout",
     "output_type": "stream",
     "text": [
      "yes,this is a corolla\n"
     ]
    }
   ],
   "source": [
    "if car == \"civic\":\n",
    "    print(\"yes,this is a civic\")\n",
    "    \n",
    "elif car == \"corolla\":\n",
    "    print(\"yes,this is a corolla\")\n",
    "    \n",
    "else:\n",
    "    print(\"we dont know the car you written\")"
   ]
  },
  {
   "cell_type": "code",
   "execution_count": 54,
   "metadata": {},
   "outputs": [
    {
     "name": "stdout",
     "output_type": "stream",
     "text": [
      "there is an error\n"
     ]
    }
   ],
   "source": [
    "num1 = 6\n",
    "num2 = 9\n",
    "\n",
    "op = \"++\"\n",
    "\n",
    "if op == \"+\":\n",
    "    print(num1 + num2)\n",
    "    \n",
    "elif op == \"-\":\n",
    "    print(num1 - num2)\n",
    "    \n",
    "elif op == \"*\":\n",
    "    print(num1 * num2)\n",
    "    \n",
    "elif op == \"/\":\n",
    "    print(num1 / num2)\n",
    "    \n",
    "else:\n",
    "    print(\"there is an error\")"
   ]
  },
  {
   "cell_type": "code",
   "execution_count": 71,
   "metadata": {},
   "outputs": [
    {
     "name": "stdout",
     "output_type": "stream",
     "text": [
      "you are not allowed\n"
     ]
    }
   ],
   "source": [
    "age = 17\n",
    "gender = \"male\"\n",
    "\n",
    "if age >= 19 and gender == \"male\":\n",
    "    print(\"You are allowed to ride bike.\")\n",
    "    \n",
    "else:\n",
    "    print(\"you are not allowed\")"
   ]
  },
  {
   "cell_type": "code",
   "execution_count": 80,
   "metadata": {},
   "outputs": [
    {
     "name": "stdout",
     "output_type": "stream",
     "text": [
      "You are allowed to ride bike.\n"
     ]
    }
   ],
   "source": [
    "age = 18\n",
    "gender = \"male\"\n",
    "\n",
    "if age >= 18 or gender == \"female\":\n",
    "    print(\"You are allowed to ride bike.\")\n",
    "\n",
    "else:\n",
    "    print(\"you are not allowed\")"
   ]
  },
  {
   "cell_type": "code",
   "execution_count": 83,
   "metadata": {},
   "outputs": [
    {
     "name": "stdout",
     "output_type": "stream",
     "text": [
      "you are not allowed\n"
     ]
    }
   ],
   "source": [
    "age = 18\n",
    "gender = \"female\"\n",
    "\n",
    "if age >= 18:\n",
    "    if gender == \"male\":\n",
    "        print (\"You are allowed to ride a bike\")\n",
    "        \n",
    "    elif gender == \"female\":\n",
    "        print (\"you are not allowed\")"
   ]
  },
  {
   "cell_type": "code",
   "execution_count": 93,
   "metadata": {},
   "outputs": [
    {
     "name": "stdout",
     "output_type": "stream",
     "text": [
      "Enter Age : 16\n",
      "Enter Gender : male\n",
      "you are under age\n"
     ]
    }
   ],
   "source": [
    "age = input(\"Enter Age : \")\n",
    "gender = input(\"Enter Gender : \")\n",
    "\n",
    "if int(age) >= 18:\n",
    "    if gender == \"male\":\n",
    "        print(\"You are allowed\")\n",
    "        \n",
    "    elif gender == \"female\":\n",
    "        print(\"you are not allowed\")\n",
    "        \n",
    "else:\n",
    "    print(\"you are under age\")\n"
   ]
  },
  {
   "cell_type": "code",
   "execution_count": null,
   "metadata": {},
   "outputs": [],
   "source": []
  }
 ],
 "metadata": {
  "kernelspec": {
   "display_name": "Python 3",
   "language": "python",
   "name": "python3"
  },
  "language_info": {
   "codemirror_mode": {
    "name": "ipython",
    "version": 3
   },
   "file_extension": ".py",
   "mimetype": "text/x-python",
   "name": "python",
   "nbconvert_exporter": "python",
   "pygments_lexer": "ipython3",
   "version": "3.8.5"
  }
 },
 "nbformat": 4,
 "nbformat_minor": 4
}
